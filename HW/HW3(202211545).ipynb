{
 "cells": [
  {
   "cell_type": "markdown",
   "id": "0496d77a",
   "metadata": {},
   "source": "# HW_3 : Bagging and Feature importance"
  },
  {
   "metadata": {},
   "cell_type": "markdown",
   "source": "<br><hr style=\"border: 0; height: 2px; background: red;\">",
   "id": "2f3caf35c242ebfc"
  },
  {
   "metadata": {},
   "cell_type": "markdown",
   "source": "## 1. Data preprocessing과 ML 기법 적용을 위한 package loading",
   "id": "96e2543af0111687"
  },
  {
   "cell_type": "code",
   "id": "4c96ff95-e2cc-45c6-96cc-c230791af134",
   "metadata": {
    "ExecuteTime": {
     "end_time": "2025-05-12T11:20:43.366216Z",
     "start_time": "2025-05-12T11:20:43.035035Z"
    }
   },
   "source": [
    "import numpy as np\n",
    "import pandas as pd"
   ],
   "outputs": [],
   "execution_count": 1
  },
  {
   "cell_type": "code",
   "id": "90b2dd8a-f33b-4939-9f49-d09e848c4d4f",
   "metadata": {
    "ExecuteTime": {
     "end_time": "2025-05-12T11:20:43.978050Z",
     "start_time": "2025-05-12T11:20:43.433069Z"
    }
   },
   "source": [
    "from sklearn.datasets import load_breast_cancer   # UCI 저장소의 Breast Cancer Wisconsin (Diagnostic) 데이터셋을 불러오는 함수\n",
    "from sklearn.preprocessing import StandardScaler\n",
    "from sklearn.decomposition import PCA\n",
    "from sklearn.ensemble import BaggingClassifier\n",
    "from sklearn.tree import DecisionTreeClassifier"
   ],
   "outputs": [],
   "execution_count": 2
  },
  {
   "metadata": {},
   "cell_type": "markdown",
   "source": "<br><hr style=\"border: 0; height: 2px; background: red;\">",
   "id": "9b8e857a951efc79"
  },
  {
   "metadata": {},
   "cell_type": "markdown",
   "source": "## 2. Data loading and EDA",
   "id": "f71905906d5dba9"
  },
  {
   "cell_type": "code",
   "id": "b253b653-5ea8-4998-bf48-1de3c419357c",
   "metadata": {
    "ExecuteTime": {
     "end_time": "2025-05-12T11:20:43.992622Z",
     "start_time": "2025-05-12T11:20:43.985977Z"
    }
   },
   "source": [
    "# UCI 저장소의 Breast Cancer Wisconsin (Diagnostic) 데이터셋을 loading해서 data 변수공간에 저장\n",
    "data = load_breast_cancer()"
   ],
   "outputs": [],
   "execution_count": 3
  },
  {
   "cell_type": "code",
   "id": "656cff4a-1f5a-448b-a277-a33f5af98fc6",
   "metadata": {
    "ExecuteTime": {
     "end_time": "2025-05-12T11:20:44.000712Z",
     "start_time": "2025-05-12T11:20:43.998187Z"
    }
   },
   "source": [
    "type(data)"
   ],
   "outputs": [
    {
     "data": {
      "text/plain": [
       "sklearn.utils._bunch.Bunch"
      ]
     },
     "execution_count": 4,
     "metadata": {},
     "output_type": "execute_result"
    }
   ],
   "execution_count": 4
  },
  {
   "cell_type": "code",
   "id": "d9b5dfbc-c10c-4f67-aace-aa7305cbb547",
   "metadata": {
    "ExecuteTime": {
     "end_time": "2025-05-12T11:20:44.018273Z",
     "start_time": "2025-05-12T11:20:44.016281Z"
    }
   },
   "source": [
    "data.DESCR"
   ],
   "outputs": [
    {
     "data": {
      "text/plain": [
       "'.. _breast_cancer_dataset:\\n\\nBreast cancer wisconsin (diagnostic) dataset\\n--------------------------------------------\\n\\n**Data Set Characteristics:**\\n\\n:Number of Instances: 569\\n\\n:Number of Attributes: 30 numeric, predictive attributes and the class\\n\\n:Attribute Information:\\n    - radius (mean of distances from center to points on the perimeter)\\n    - texture (standard deviation of gray-scale values)\\n    - perimeter\\n    - area\\n    - smoothness (local variation in radius lengths)\\n    - compactness (perimeter^2 / area - 1.0)\\n    - concavity (severity of concave portions of the contour)\\n    - concave points (number of concave portions of the contour)\\n    - symmetry\\n    - fractal dimension (\"coastline approximation\" - 1)\\n\\n    The mean, standard error, and \"worst\" or largest (mean of the three\\n    worst/largest values) of these features were computed for each image,\\n    resulting in 30 features.  For instance, field 0 is Mean Radius, field\\n    10 is Radius SE, field 20 is Worst Radius.\\n\\n    - class:\\n            - WDBC-Malignant\\n            - WDBC-Benign\\n\\n:Summary Statistics:\\n\\n===================================== ====== ======\\n                                        Min    Max\\n===================================== ====== ======\\nradius (mean):                        6.981  28.11\\ntexture (mean):                       9.71   39.28\\nperimeter (mean):                     43.79  188.5\\narea (mean):                          143.5  2501.0\\nsmoothness (mean):                    0.053  0.163\\ncompactness (mean):                   0.019  0.345\\nconcavity (mean):                     0.0    0.427\\nconcave points (mean):                0.0    0.201\\nsymmetry (mean):                      0.106  0.304\\nfractal dimension (mean):             0.05   0.097\\nradius (standard error):              0.112  2.873\\ntexture (standard error):             0.36   4.885\\nperimeter (standard error):           0.757  21.98\\narea (standard error):                6.802  542.2\\nsmoothness (standard error):          0.002  0.031\\ncompactness (standard error):         0.002  0.135\\nconcavity (standard error):           0.0    0.396\\nconcave points (standard error):      0.0    0.053\\nsymmetry (standard error):            0.008  0.079\\nfractal dimension (standard error):   0.001  0.03\\nradius (worst):                       7.93   36.04\\ntexture (worst):                      12.02  49.54\\nperimeter (worst):                    50.41  251.2\\narea (worst):                         185.2  4254.0\\nsmoothness (worst):                   0.071  0.223\\ncompactness (worst):                  0.027  1.058\\nconcavity (worst):                    0.0    1.252\\nconcave points (worst):               0.0    0.291\\nsymmetry (worst):                     0.156  0.664\\nfractal dimension (worst):            0.055  0.208\\n===================================== ====== ======\\n\\n:Missing Attribute Values: None\\n\\n:Class Distribution: 212 - Malignant, 357 - Benign\\n\\n:Creator:  Dr. William H. Wolberg, W. Nick Street, Olvi L. Mangasarian\\n\\n:Donor: Nick Street\\n\\n:Date: November, 1995\\n\\nThis is a copy of UCI ML Breast Cancer Wisconsin (Diagnostic) datasets.\\nhttps://goo.gl/U2Uwz2\\n\\nFeatures are computed from a digitized image of a fine needle\\naspirate (FNA) of a breast mass.  They describe\\ncharacteristics of the cell nuclei present in the image.\\n\\nSeparating plane described above was obtained using\\nMultisurface Method-Tree (MSM-T) [K. P. Bennett, \"Decision Tree\\nConstruction Via Linear Programming.\" Proceedings of the 4th\\nMidwest Artificial Intelligence and Cognitive Science Society,\\npp. 97-101, 1992], a classification method which uses linear\\nprogramming to construct a decision tree.  Relevant features\\nwere selected using an exhaustive search in the space of 1-4\\nfeatures and 1-3 separating planes.\\n\\nThe actual linear program used to obtain the separating plane\\nin the 3-dimensional space is that described in:\\n[K. P. Bennett and O. L. Mangasarian: \"Robust Linear\\nProgramming Discrimination of Two Linearly Inseparable Sets\",\\nOptimization Methods and Software 1, 1992, 23-34].\\n\\nThis database is also available through the UW CS ftp server:\\n\\nftp ftp.cs.wisc.edu\\ncd math-prog/cpo-dataset/machine-learn/WDBC/\\n\\n.. dropdown:: References\\n\\n  - W.N. Street, W.H. Wolberg and O.L. Mangasarian. Nuclear feature extraction\\n    for breast tumor diagnosis. IS&T/SPIE 1993 International Symposium on\\n    Electronic Imaging: Science and Technology, volume 1905, pages 861-870,\\n    San Jose, CA, 1993.\\n  - O.L. Mangasarian, W.N. Street and W.H. Wolberg. Breast cancer diagnosis and\\n    prognosis via linear programming. Operations Research, 43(4), pages 570-577,\\n    July-August 1995.\\n  - W.H. Wolberg, W.N. Street, and O.L. Mangasarian. Machine learning techniques\\n    to diagnose breast cancer from fine-needle aspirates. Cancer Letters 77 (1994)\\n    163-171.\\n'"
      ]
     },
     "execution_count": 5,
     "metadata": {},
     "output_type": "execute_result"
    }
   ],
   "execution_count": 5
  },
  {
   "cell_type": "code",
   "id": "9ceab403-fc67-414b-969a-fde84c55280a",
   "metadata": {
    "ExecuteTime": {
     "end_time": "2025-05-12T11:20:44.034985Z",
     "start_time": "2025-05-12T11:20:44.033497Z"
    }
   },
   "source": [
    "X, y = data.data, data.target"
   ],
   "outputs": [],
   "execution_count": 6
  },
  {
   "metadata": {},
   "cell_type": "markdown",
   "source": "`X, y = data.data, data.target` : feature 데이터와 target data를 각각 X, Y로 분리",
   "id": "718e61e130b363a9"
  },
  {
   "cell_type": "code",
   "id": "5e57ca35-3463-47d8-86fe-8a2974b84ba9",
   "metadata": {
    "ExecuteTime": {
     "end_time": "2025-05-12T11:20:44.047003Z",
     "start_time": "2025-05-12T11:20:44.045220Z"
    }
   },
   "source": [
    "type(X), type(y)"
   ],
   "outputs": [
    {
     "data": {
      "text/plain": [
       "(numpy.ndarray, numpy.ndarray)"
      ]
     },
     "execution_count": 7,
     "metadata": {},
     "output_type": "execute_result"
    }
   ],
   "execution_count": 7
  },
  {
   "cell_type": "code",
   "id": "87a19eb5-31ed-4dc0-a375-fd87d30362a8",
   "metadata": {
    "ExecuteTime": {
     "end_time": "2025-05-12T11:20:44.068031Z",
     "start_time": "2025-05-12T11:20:44.065989Z"
    }
   },
   "source": [
    "X.shape, y.shape"
   ],
   "outputs": [
    {
     "data": {
      "text/plain": [
       "((569, 30), (569,))"
      ]
     },
     "execution_count": 8,
     "metadata": {},
     "output_type": "execute_result"
    }
   ],
   "execution_count": 8
  },
  {
   "metadata": {},
   "cell_type": "markdown",
   "source": "`X.shape` , `y.shape` : Feature의 행과 열의 수 그리고 target의 행과 (열)의 수 체크!",
   "id": "15e9b51f37ab81c3"
  },
  {
   "cell_type": "code",
   "id": "52024e2f",
   "metadata": {
    "ExecuteTime": {
     "end_time": "2025-05-12T11:20:44.087219Z",
     "start_time": "2025-05-12T11:20:44.084812Z"
    }
   },
   "source": [
    "np.unique(y)   # 0: benign, 1: malignant"
   ],
   "outputs": [
    {
     "data": {
      "text/plain": [
       "array([0, 1])"
      ]
     },
     "execution_count": 9,
     "metadata": {},
     "output_type": "execute_result"
    }
   ],
   "execution_count": 9
  },
  {
   "metadata": {},
   "cell_type": "markdown",
   "source": "`np.unique(y)` : target의 레이블 값 확인! (0, 1)만 있으므로 이진분류 task.",
   "id": "be714c994791b346"
  },
  {
   "cell_type": "code",
   "id": "6bcbb06e-2686-4ab5-a0b7-ea4eb9bff833",
   "metadata": {
    "ExecuteTime": {
     "end_time": "2025-05-12T11:20:44.101907Z",
     "start_time": "2025-05-12T11:20:44.100138Z"
    }
   },
   "source": [
    "feature_names = data.feature_names"
   ],
   "outputs": [],
   "execution_count": 10
  },
  {
   "cell_type": "code",
   "id": "99c7df51",
   "metadata": {
    "ExecuteTime": {
     "end_time": "2025-05-12T11:20:44.113425Z",
     "start_time": "2025-05-12T11:20:44.111404Z"
    }
   },
   "source": [
    "feature_names"
   ],
   "outputs": [
    {
     "data": {
      "text/plain": [
       "array(['mean radius', 'mean texture', 'mean perimeter', 'mean area',\n",
       "       'mean smoothness', 'mean compactness', 'mean concavity',\n",
       "       'mean concave points', 'mean symmetry', 'mean fractal dimension',\n",
       "       'radius error', 'texture error', 'perimeter error', 'area error',\n",
       "       'smoothness error', 'compactness error', 'concavity error',\n",
       "       'concave points error', 'symmetry error',\n",
       "       'fractal dimension error', 'worst radius', 'worst texture',\n",
       "       'worst perimeter', 'worst area', 'worst smoothness',\n",
       "       'worst compactness', 'worst concavity', 'worst concave points',\n",
       "       'worst symmetry', 'worst fractal dimension'], dtype='<U23')"
      ]
     },
     "execution_count": 11,
     "metadata": {},
     "output_type": "execute_result"
    }
   ],
   "execution_count": 11
  },
  {
   "cell_type": "code",
   "id": "e8a23d46",
   "metadata": {
    "ExecuteTime": {
     "end_time": "2025-05-12T11:20:44.131724Z",
     "start_time": "2025-05-12T11:20:44.129857Z"
    }
   },
   "source": [
    "len(feature_names)\n",
    "#feature_names.shape[0]"
   ],
   "outputs": [
    {
     "data": {
      "text/plain": [
       "30"
      ]
     },
     "execution_count": 12,
     "metadata": {},
     "output_type": "execute_result"
    }
   ],
   "execution_count": 12
  },
  {
   "metadata": {},
   "cell_type": "markdown",
   "source": "`feature_names`, `len(feature_names)` : Feature의 이름과 총 feature의 개수를 확인!",
   "id": "14c74012b415bbca"
  },
  {
   "metadata": {},
   "cell_type": "markdown",
   "source": "<br><hr style=\"border: 0; height: 2px; background: red;\">",
   "id": "28fda5cc0fc3e733"
  },
  {
   "metadata": {},
   "cell_type": "markdown",
   "source": "## 3. PCA 적용 for 차원축소 -> 주요 정보를 유지한 채 feature의 수 줄이자!",
   "id": "59bb7828ebe1f18d"
  },
  {
   "cell_type": "code",
   "id": "78e231d7-485d-4a9a-9edb-89975a545e59",
   "metadata": {
    "ExecuteTime": {
     "end_time": "2025-05-12T11:20:44.148520Z",
     "start_time": "2025-05-12T11:20:44.146437Z"
    }
   },
   "source": [
    "scaler = StandardScaler().fit(X)   \n",
    "X_scaled = scaler.transform(X)     # features에 표준화를 적용하여 변수 변환"
   ],
   "outputs": [],
   "execution_count": 13
  },
  {
   "metadata": {},
   "cell_type": "markdown",
   "source": [
    "`StandardScaler().fit(X)` : X (Original data)에 평균 0, 표준편차가 1이 되도록 정규화 하는 객체 생성, `.fit(X)`로 X 각 Feature 별로 평균 표준표차 계산 <p>\n",
    "`scaler.transform(X)` : 위에서 구한 평균, 표준편차로 X의 각 Feature 값을 정규화!"
   ],
   "id": "1855635378492db9"
  },
  {
   "cell_type": "code",
   "id": "be099975-a0bd-4571-a706-3d1ec698389e",
   "metadata": {
    "ExecuteTime": {
     "end_time": "2025-05-12T11:20:44.160304Z",
     "start_time": "2025-05-12T11:20:44.158078Z"
    }
   },
   "source": [
    "pca = PCA(n_components=0.90, random_state=0) # explained variance의 누적합이 90%가 되는 최소 개수의 주성분을 자동으로 선택  \n",
    "X_pca = pca.fit_transform(X_scaled)          # random_state=0: 결과 재현성을 위해 seed를 고정"
   ],
   "outputs": [],
   "execution_count": 14
  },
  {
   "metadata": {},
   "cell_type": "markdown",
   "source": [
    "`PCA(n_components = 0.9-, random_state = 0)` : 차원 축소를 위한 PCA 객체 생성 후, <p>\n",
    "`n_components = 0.9` : 전체 데이터 분산의 90퍼 이상을 설명할 수 있도록 주성분 선택하게 고고 <p>\n",
    "`random_state = 0`: 시드 고정 <p>\n",
    "`pca.fit_transform(X_scaled)` : X_sceled의 공분산을 파악하여 분산이 가장 큰 방향 즉 주성분 벡터를 계산 -> `transform()` -> 데이터를 전에 구한 주성분 방향으로 투영하여 저차원으로 변환.\n"
   ],
   "id": "e8b4651c565713c3"
  },
  {
   "cell_type": "code",
   "id": "339ac9a1",
   "metadata": {
    "ExecuteTime": {
     "end_time": "2025-05-12T11:20:44.167509Z",
     "start_time": "2025-05-12T11:20:44.165787Z"
    }
   },
   "source": "X_pca.shape",
   "outputs": [
    {
     "data": {
      "text/plain": [
       "(569, 7)"
      ]
     },
     "execution_count": 15,
     "metadata": {},
     "output_type": "execute_result"
    }
   ],
   "execution_count": 15
  },
  {
   "metadata": {},
   "cell_type": "markdown",
   "source": "-> 행: 샘플의 수, 열: 선택된 주성분의 수",
   "id": "34a28198d61ce901"
  },
  {
   "cell_type": "code",
   "id": "5e4eab2f-3af7-475b-987a-31cb15333b2d",
   "metadata": {
    "ExecuteTime": {
     "end_time": "2025-05-12T11:20:44.181715Z",
     "start_time": "2025-05-12T11:20:44.179910Z"
    }
   },
   "source": [
    "n_pc = X_pca.shape[1]\n",
    "n_pc"
   ],
   "outputs": [
    {
     "data": {
      "text/plain": [
       "7"
      ]
     },
     "execution_count": 16,
     "metadata": {},
     "output_type": "execute_result"
    }
   ],
   "execution_count": 16
  },
  {
   "metadata": {},
   "cell_type": "markdown",
   "source": "<br><hr style=\"border: 0; height: 2px; background: red;\">",
   "id": "2b15b6d4139f10b"
  },
  {
   "metadata": {},
   "cell_type": "markdown",
   "source": "## 4. Grid Serach for Bagging and Model fitting",
   "id": "3329e622ce9b3ffd"
  },
  {
   "cell_type": "code",
   "id": "0ea1a48f-c029-4a80-a06a-0ab673afe2fa",
   "metadata": {
    "ExecuteTime": {
     "end_time": "2025-05-12T11:20:44.198221Z",
     "start_time": "2025-05-12T11:20:44.196670Z"
    }
   },
   "source": [
    "### OOB(Out-of-Bag) 스코어를 기준으로 Bagging 분류기의 주요 하이퍼파라미터를 Grid Search하기 위해 준비하는 부분 ###\n",
    "results = []                        \n",
    "param_grid = {                      ## key: Bagging Classifier의 주요 하이퍼파라미터들\n",
    "    'n_estimators': [50, 100, 200],  # n_estimators: 앙상블에 사용할 트리의 개수   \n",
    "    'max_samples': [0.7, 1.0],       # max_samples : 각 트리를 학습시킬 때 사용할 샘플의 비율\n",
    "    'max_features': [0.7, 1.0]       # max_features: 각 트리 분할 시 고려할 특성의 비율\n",
    "}                                   ## 하이퍼파라미터들의 조합의 수 = 3*2*2 = 12개"
   ],
   "outputs": [],
   "execution_count": 17
  },
  {
   "cell_type": "code",
   "id": "e88e5a56-4a9d-4146-b028-ca6a5c68c3ac",
   "metadata": {
    "ExecuteTime": {
     "end_time": "2025-05-12T11:20:45.737478Z",
     "start_time": "2025-05-12T11:20:44.206962Z"
    }
   },
   "source": [
    "## param_grid에 정의된 하이퍼파라미터 조합을 전부 test해 보고\n",
    "## 각 조합별로 OOB(Out-of-Bag) 스코어를 계산해\n",
    "## results 리스트에 저장하는 그리드 탐색(grid search)을 수행한다\n",
    "\n",
    "for n_est in param_grid['n_estimators']:                 # 'n_estimators': [50, 100, 200] \n",
    "    for max_s in param_grid['max_samples']:              # 'max_samples': [0.7, 1.0]\n",
    "        for max_f in param_grid['max_features']:         # 'max_features': [0.7, 1.0]\n",
    "            clf = BaggingClassifier(                    ## BaggingClassifier를 생성한다\n",
    "                estimator=DecisionTreeClassifier(),      # 기본 학습기로 DecisionTreeClassifier를 사용한다\n",
    "                n_estimators=n_est,\n",
    "                max_samples=max_s,\n",
    "                max_features=max_f,\n",
    "                oob_score=True,                          # OOB 샘플을 사용하여 성능을 평가한다\n",
    "                random_state=0,\n",
    "                n_jobs=-1                                # 가능한 모든 CPU 코어를 활용해 병렬 학습한다\n",
    "            )\n",
    "            clf.fit(X_pca, y)\n",
    "            results.append({\n",
    "                'n_estimators': n_est,\n",
    "                'max_samples': max_s,\n",
    "                'max_features': max_f,\n",
    "                'oob_score': clf.oob_score_               # 학습이 끝나면 clf.oob_score_ 속성에 저장된 OOB 정확도를 읽어온다\n",
    "            })"
   ],
   "outputs": [],
   "execution_count": 18
  },
  {
   "metadata": {},
   "cell_type": "markdown",
   "source": [
    "위에서 설정한 `param_grid`는 총 12가지 조합(3×2×2)에 대해 `BaggingClassifier`의 하이퍼파라미터 설정을 만들어둔 것이다!\n",
    "이제 그 각각의 조합에 대해 실제로 모델을 학습(fit) 하고, OOB 점수(검증 정확도) 를 계산해서 results 리스트에 저장하는 코드가 바로 위의 셀에서 실행한돠.\n",
    "\n",
    "바로 위의 셀에서는:\n",
    "\n",
    "1. 3중 for-loop를 통해 `n_estimators`, `max_samples`, `max_features`의 모든 조합을 순회하면서\n",
    "\n",
    "2. 각 조합마다 `BaggingClassifier` 모델을 생성하고, X_pca, y에 대해 학습시킨ㄷ,\n",
    "\n",
    "3. `oob_score=True`로 설정했기 때문에, 학습에 사용되지 않은 샘플(Out-of-Bag)을 이용하여 모델 성능을 자동으로 평가한다.\n",
    "\n",
    "> * oob_score(bool type parameter): 생성자 인자로 주어지는 설정값. 학습할 때 OOB 점수를 계산할 것인지 여부를 TRUE 또는 FALSE로 설정한다\n",
    "> * oob_socre_(float type attribute): fit() 호출 뒤, 실제로 계산된 OOB 점수를 담은 결과값. 분류 task: 정확도. 회귀 task: 수정된 결정계수.\n",
    "\n",
    "4. 최종적으로 각 조합과 대응되는 OOB 스코어를 `results` 리스트에 딕셔너리 형태로 저장한다."
   ],
   "id": "c3196509d319e25a"
  },
  {
   "cell_type": "code",
   "id": "57d5588e",
   "metadata": {
    "ExecuteTime": {
     "end_time": "2025-05-12T11:20:45.746663Z",
     "start_time": "2025-05-12T11:20:45.744532Z"
    }
   },
   "source": [
    "vars(clf).keys()"
   ],
   "outputs": [
    {
     "data": {
      "text/plain": [
       "dict_keys(['estimator', 'n_estimators', 'estimator_params', 'max_samples', 'max_features', 'bootstrap', 'bootstrap_features', 'oob_score', 'warm_start', 'n_jobs', 'random_state', 'verbose', 'n_features_in_', '_n_samples', 'classes_', 'n_classes_', 'estimator_', '_max_samples', '_max_features', 'estimators_', 'estimators_features_', '_seeds', 'oob_decision_function_', 'oob_score_'])"
      ]
     },
     "execution_count": 19,
     "metadata": {},
     "output_type": "execute_result"
    }
   ],
   "execution_count": 19
  },
  {
   "cell_type": "markdown",
   "id": "64b4afb1",
   "metadata": {},
   "source": [
    "`vars(clf).keys()`는 ㅔython의 내장 함수 `vars()`를 사용해 객체 clf의 attribute들을 딕셔너리 형태로 확인하 key만 가져온다.\n",
    "\n",
    "여기서 clf는 `BaggingClassifier` instance이므로 이 코드는 `BaggingClassifier` 객체가 내부적으로 어떤 attribute를 갖고 있는지 확인해준다,"
   ]
  },
  {
   "cell_type": "code",
   "id": "756fdf4c",
   "metadata": {
    "ExecuteTime": {
     "end_time": "2025-05-12T11:20:45.756793Z",
     "start_time": "2025-05-12T11:20:45.755080Z"
    }
   },
   "source": [
    "type(results)"
   ],
   "outputs": [
    {
     "data": {
      "text/plain": [
       "list"
      ]
     },
     "execution_count": 20,
     "metadata": {},
     "output_type": "execute_result"
    }
   ],
   "execution_count": 20
  },
  {
   "cell_type": "code",
   "id": "b45941a2-ffca-48c9-85bf-6f3337601745",
   "metadata": {
    "ExecuteTime": {
     "end_time": "2025-05-12T11:20:45.773925Z",
     "start_time": "2025-05-12T11:20:45.765979Z"
    }
   },
   "source": [
    "results_df = pd.DataFrame(results)\n",
    "results_df"
   ],
   "outputs": [
    {
     "data": {
      "text/plain": [
       "    n_estimators  max_samples  max_features  oob_score\n",
       "0             50          0.7           0.7   0.940246\n",
       "1             50          0.7           1.0   0.945518\n",
       "2             50          1.0           0.7   0.943761\n",
       "3             50          1.0           1.0   0.949033\n",
       "4            100          0.7           0.7   0.956063\n",
       "5            100          0.7           1.0   0.952548\n",
       "6            100          1.0           0.7   0.956063\n",
       "7            100          1.0           1.0   0.947276\n",
       "8            200          0.7           0.7   0.950791\n",
       "9            200          0.7           1.0   0.950791\n",
       "10           200          1.0           0.7   0.957821\n",
       "11           200          1.0           1.0   0.947276"
      ],
      "text/html": [
       "<div>\n",
       "<style scoped>\n",
       "    .dataframe tbody tr th:only-of-type {\n",
       "        vertical-align: middle;\n",
       "    }\n",
       "\n",
       "    .dataframe tbody tr th {\n",
       "        vertical-align: top;\n",
       "    }\n",
       "\n",
       "    .dataframe thead th {\n",
       "        text-align: right;\n",
       "    }\n",
       "</style>\n",
       "<table border=\"1\" class=\"dataframe\">\n",
       "  <thead>\n",
       "    <tr style=\"text-align: right;\">\n",
       "      <th></th>\n",
       "      <th>n_estimators</th>\n",
       "      <th>max_samples</th>\n",
       "      <th>max_features</th>\n",
       "      <th>oob_score</th>\n",
       "    </tr>\n",
       "  </thead>\n",
       "  <tbody>\n",
       "    <tr>\n",
       "      <th>0</th>\n",
       "      <td>50</td>\n",
       "      <td>0.7</td>\n",
       "      <td>0.7</td>\n",
       "      <td>0.940246</td>\n",
       "    </tr>\n",
       "    <tr>\n",
       "      <th>1</th>\n",
       "      <td>50</td>\n",
       "      <td>0.7</td>\n",
       "      <td>1.0</td>\n",
       "      <td>0.945518</td>\n",
       "    </tr>\n",
       "    <tr>\n",
       "      <th>2</th>\n",
       "      <td>50</td>\n",
       "      <td>1.0</td>\n",
       "      <td>0.7</td>\n",
       "      <td>0.943761</td>\n",
       "    </tr>\n",
       "    <tr>\n",
       "      <th>3</th>\n",
       "      <td>50</td>\n",
       "      <td>1.0</td>\n",
       "      <td>1.0</td>\n",
       "      <td>0.949033</td>\n",
       "    </tr>\n",
       "    <tr>\n",
       "      <th>4</th>\n",
       "      <td>100</td>\n",
       "      <td>0.7</td>\n",
       "      <td>0.7</td>\n",
       "      <td>0.956063</td>\n",
       "    </tr>\n",
       "    <tr>\n",
       "      <th>5</th>\n",
       "      <td>100</td>\n",
       "      <td>0.7</td>\n",
       "      <td>1.0</td>\n",
       "      <td>0.952548</td>\n",
       "    </tr>\n",
       "    <tr>\n",
       "      <th>6</th>\n",
       "      <td>100</td>\n",
       "      <td>1.0</td>\n",
       "      <td>0.7</td>\n",
       "      <td>0.956063</td>\n",
       "    </tr>\n",
       "    <tr>\n",
       "      <th>7</th>\n",
       "      <td>100</td>\n",
       "      <td>1.0</td>\n",
       "      <td>1.0</td>\n",
       "      <td>0.947276</td>\n",
       "    </tr>\n",
       "    <tr>\n",
       "      <th>8</th>\n",
       "      <td>200</td>\n",
       "      <td>0.7</td>\n",
       "      <td>0.7</td>\n",
       "      <td>0.950791</td>\n",
       "    </tr>\n",
       "    <tr>\n",
       "      <th>9</th>\n",
       "      <td>200</td>\n",
       "      <td>0.7</td>\n",
       "      <td>1.0</td>\n",
       "      <td>0.950791</td>\n",
       "    </tr>\n",
       "    <tr>\n",
       "      <th>10</th>\n",
       "      <td>200</td>\n",
       "      <td>1.0</td>\n",
       "      <td>0.7</td>\n",
       "      <td>0.957821</td>\n",
       "    </tr>\n",
       "    <tr>\n",
       "      <th>11</th>\n",
       "      <td>200</td>\n",
       "      <td>1.0</td>\n",
       "      <td>1.0</td>\n",
       "      <td>0.947276</td>\n",
       "    </tr>\n",
       "  </tbody>\n",
       "</table>\n",
       "</div>"
      ]
     },
     "execution_count": 21,
     "metadata": {},
     "output_type": "execute_result"
    }
   ],
   "execution_count": 21
  },
  {
   "metadata": {},
   "cell_type": "markdown",
   "source": "-> 12개 하이퍼파라미터들의 조합에 대해 4개의 딕셔너리 key의 value를 보여준다",
   "id": "ff6be23f6bde1ae3"
  },
  {
   "cell_type": "code",
   "id": "02ca6ae1",
   "metadata": {
    "ExecuteTime": {
     "end_time": "2025-05-12T11:20:45.797388Z",
     "start_time": "2025-05-12T11:20:45.795530Z"
    }
   },
   "source": [
    "type(results_df['oob_score'])"
   ],
   "outputs": [
    {
     "data": {
      "text/plain": [
       "pandas.core.series.Series"
      ]
     },
     "execution_count": 22,
     "metadata": {},
     "output_type": "execute_result"
    }
   ],
   "execution_count": 22
  },
  {
   "cell_type": "code",
   "id": "784151df-9dac-4f1c-b692-9f963f6c35eb",
   "metadata": {
    "ExecuteTime": {
     "end_time": "2025-05-12T11:20:45.818033Z",
     "start_time": "2025-05-12T11:20:45.816119Z"
    }
   },
   "source": [
    "best_idx = results_df['oob_score'].idxmax() # 이 Series에서 가장 큰 값을 갖는 인덱스를 반환한다\n",
    "best_idx"
   ],
   "outputs": [
    {
     "data": {
      "text/plain": [
       "10"
      ]
     },
     "execution_count": 23,
     "metadata": {},
     "output_type": "execute_result"
    }
   ],
   "execution_count": 23
  },
  {
   "metadata": {},
   "cell_type": "markdown",
   "source": [
    "`idxmax()` method를 이용하여 가장 큰 값을 갖는 인덱스를 찾아준다.\n",
    "\n",
    "`idxmin()`도 있다..!"
   ],
   "id": "82a1036696470e70"
  },
  {
   "cell_type": "code",
   "id": "9b12c5cd-d028-4e0a-9cd4-b78641b5e6a3",
   "metadata": {
    "ExecuteTime": {
     "end_time": "2025-05-12T11:20:45.861423Z",
     "start_time": "2025-05-12T11:20:45.859243Z"
    }
   },
   "source": [
    "#\n",
    "best_params = results_df.loc[best_idx].to_dict()\n",
    "best_params"
   ],
   "outputs": [
    {
     "data": {
      "text/plain": [
       "{'n_estimators': 200.0,\n",
       " 'max_samples': 1.0,\n",
       " 'max_features': 0.7,\n",
       " 'oob_score': 0.9578207381370826}"
      ]
     },
     "execution_count": 24,
     "metadata": {},
     "output_type": "execute_result"
    }
   ],
   "execution_count": 24
  },
  {
   "metadata": {},
   "cell_type": "markdown",
   "source": "-> results_df에서 가장 높은 OOB 스코어를 기록한 행(row)을 딕셔너리 형태로 뽑아서 best_params에 저장한 후 출력한다",
   "id": "68d7097a1c9b2d27"
  },
  {
   "metadata": {},
   "cell_type": "markdown",
   "source": "아래의 코드는 앞서 Grid Search로 찾은 최적의 하이퍼파라미터 조합(best_params)을 이용해서 최종적으로 사용할 BaggingClassifier 모델을 재생성하는 단계이다.",
   "id": "16206b463e504a97"
  },
  {
   "metadata": {
    "ExecuteTime": {
     "end_time": "2025-05-12T11:20:45.879082Z",
     "start_time": "2025-05-12T11:20:45.877416Z"
    }
   },
   "cell_type": "code",
   "source": [
    "# Grid Search로 찾아낸 최적 하이퍼파라미터를 이용해 최종 BaggingClassifier 모델을 다시 생성한다\n",
    "best_clf = BaggingClassifier(\n",
    "    estimator=DecisionTreeClassifier(),\n",
    "    n_estimators=int(best_params['n_estimators']),\n",
    "    max_samples=best_params['max_samples'],\n",
    "    max_features=best_params['max_features'],\n",
    "    oob_score=True,\n",
    "    random_state=0,\n",
    "    n_jobs=-1\n",
    ")"
   ],
   "id": "93740461444f2251",
   "outputs": [],
   "execution_count": 25
  },
  {
   "metadata": {},
   "cell_type": "markdown",
   "source": [
    "`estimator=DecisionTreeClassifier()` : 배깅이 사용할 기본 모델로 의사결정트리를 지정하는 것 <p>\n",
    "`n_estimators=int(best_params['n_estimators'])` : 앙상블 내에 몇 개의 트리를 사용할지를 설정 <p>\n",
    "`max_samples=best_params['max_samples']` : 각 트리를 학습시킬 때 전체 데이터 중 몇 %의 샘플을 사용할지를 의미 <p>\n",
    "`max_features=best_params['max_features']` : 각 트리가 분할을 고려할 때 사용할 특성의 비율을 의미 <p>\n",
    " `oob_score=True는 OOB(Out-of-Bag)` :  샘플을 사용해서 모델의 일반화 성능을 추정하게 해 준다 <p>\n",
    " `random_state=0` : 시드를 고정 <p>\n",
    "`n_jobs=-1` : 모든 CPU 코어를 사용해 병렬 처리를 수행하게 하여 학습 속도를 up <p>"
   ],
   "id": "6f44550fff16806b"
  },
  {
   "cell_type": "code",
   "id": "e9723cd8-29c2-43cb-9602-d8e5eeb84a2b",
   "metadata": {
    "ExecuteTime": {
     "end_time": "2025-05-12T11:20:45.964417Z",
     "start_time": "2025-05-12T11:20:45.889530Z"
    }
   },
   "source": [
    "best_clf.fit(X_pca, y)"
   ],
   "outputs": [
    {
     "data": {
      "text/plain": [
       "BaggingClassifier(estimator=DecisionTreeClassifier(), max_features=0.7,\n",
       "                  n_estimators=200, n_jobs=-1, oob_score=True, random_state=0)"
      ],
      "text/html": [
       "<style>#sk-container-id-1 {\n",
       "  /* Definition of color scheme common for light and dark mode */\n",
       "  --sklearn-color-text: #000;\n",
       "  --sklearn-color-text-muted: #666;\n",
       "  --sklearn-color-line: gray;\n",
       "  /* Definition of color scheme for unfitted estimators */\n",
       "  --sklearn-color-unfitted-level-0: #fff5e6;\n",
       "  --sklearn-color-unfitted-level-1: #f6e4d2;\n",
       "  --sklearn-color-unfitted-level-2: #ffe0b3;\n",
       "  --sklearn-color-unfitted-level-3: chocolate;\n",
       "  /* Definition of color scheme for fitted estimators */\n",
       "  --sklearn-color-fitted-level-0: #f0f8ff;\n",
       "  --sklearn-color-fitted-level-1: #d4ebff;\n",
       "  --sklearn-color-fitted-level-2: #b3dbfd;\n",
       "  --sklearn-color-fitted-level-3: cornflowerblue;\n",
       "\n",
       "  /* Specific color for light theme */\n",
       "  --sklearn-color-text-on-default-background: var(--sg-text-color, var(--theme-code-foreground, var(--jp-content-font-color1, black)));\n",
       "  --sklearn-color-background: var(--sg-background-color, var(--theme-background, var(--jp-layout-color0, white)));\n",
       "  --sklearn-color-border-box: var(--sg-text-color, var(--theme-code-foreground, var(--jp-content-font-color1, black)));\n",
       "  --sklearn-color-icon: #696969;\n",
       "\n",
       "  @media (prefers-color-scheme: dark) {\n",
       "    /* Redefinition of color scheme for dark theme */\n",
       "    --sklearn-color-text-on-default-background: var(--sg-text-color, var(--theme-code-foreground, var(--jp-content-font-color1, white)));\n",
       "    --sklearn-color-background: var(--sg-background-color, var(--theme-background, var(--jp-layout-color0, #111)));\n",
       "    --sklearn-color-border-box: var(--sg-text-color, var(--theme-code-foreground, var(--jp-content-font-color1, white)));\n",
       "    --sklearn-color-icon: #878787;\n",
       "  }\n",
       "}\n",
       "\n",
       "#sk-container-id-1 {\n",
       "  color: var(--sklearn-color-text);\n",
       "}\n",
       "\n",
       "#sk-container-id-1 pre {\n",
       "  padding: 0;\n",
       "}\n",
       "\n",
       "#sk-container-id-1 input.sk-hidden--visually {\n",
       "  border: 0;\n",
       "  clip: rect(1px 1px 1px 1px);\n",
       "  clip: rect(1px, 1px, 1px, 1px);\n",
       "  height: 1px;\n",
       "  margin: -1px;\n",
       "  overflow: hidden;\n",
       "  padding: 0;\n",
       "  position: absolute;\n",
       "  width: 1px;\n",
       "}\n",
       "\n",
       "#sk-container-id-1 div.sk-dashed-wrapped {\n",
       "  border: 1px dashed var(--sklearn-color-line);\n",
       "  margin: 0 0.4em 0.5em 0.4em;\n",
       "  box-sizing: border-box;\n",
       "  padding-bottom: 0.4em;\n",
       "  background-color: var(--sklearn-color-background);\n",
       "}\n",
       "\n",
       "#sk-container-id-1 div.sk-container {\n",
       "  /* jupyter's `normalize.less` sets `[hidden] { display: none; }`\n",
       "     but bootstrap.min.css set `[hidden] { display: none !important; }`\n",
       "     so we also need the `!important` here to be able to override the\n",
       "     default hidden behavior on the sphinx rendered scikit-learn.org.\n",
       "     See: https://github.com/scikit-learn/scikit-learn/issues/21755 */\n",
       "  display: inline-block !important;\n",
       "  position: relative;\n",
       "}\n",
       "\n",
       "#sk-container-id-1 div.sk-text-repr-fallback {\n",
       "  display: none;\n",
       "}\n",
       "\n",
       "div.sk-parallel-item,\n",
       "div.sk-serial,\n",
       "div.sk-item {\n",
       "  /* draw centered vertical line to link estimators */\n",
       "  background-image: linear-gradient(var(--sklearn-color-text-on-default-background), var(--sklearn-color-text-on-default-background));\n",
       "  background-size: 2px 100%;\n",
       "  background-repeat: no-repeat;\n",
       "  background-position: center center;\n",
       "}\n",
       "\n",
       "/* Parallel-specific style estimator block */\n",
       "\n",
       "#sk-container-id-1 div.sk-parallel-item::after {\n",
       "  content: \"\";\n",
       "  width: 100%;\n",
       "  border-bottom: 2px solid var(--sklearn-color-text-on-default-background);\n",
       "  flex-grow: 1;\n",
       "}\n",
       "\n",
       "#sk-container-id-1 div.sk-parallel {\n",
       "  display: flex;\n",
       "  align-items: stretch;\n",
       "  justify-content: center;\n",
       "  background-color: var(--sklearn-color-background);\n",
       "  position: relative;\n",
       "}\n",
       "\n",
       "#sk-container-id-1 div.sk-parallel-item {\n",
       "  display: flex;\n",
       "  flex-direction: column;\n",
       "}\n",
       "\n",
       "#sk-container-id-1 div.sk-parallel-item:first-child::after {\n",
       "  align-self: flex-end;\n",
       "  width: 50%;\n",
       "}\n",
       "\n",
       "#sk-container-id-1 div.sk-parallel-item:last-child::after {\n",
       "  align-self: flex-start;\n",
       "  width: 50%;\n",
       "}\n",
       "\n",
       "#sk-container-id-1 div.sk-parallel-item:only-child::after {\n",
       "  width: 0;\n",
       "}\n",
       "\n",
       "/* Serial-specific style estimator block */\n",
       "\n",
       "#sk-container-id-1 div.sk-serial {\n",
       "  display: flex;\n",
       "  flex-direction: column;\n",
       "  align-items: center;\n",
       "  background-color: var(--sklearn-color-background);\n",
       "  padding-right: 1em;\n",
       "  padding-left: 1em;\n",
       "}\n",
       "\n",
       "\n",
       "/* Toggleable style: style used for estimator/Pipeline/ColumnTransformer box that is\n",
       "clickable and can be expanded/collapsed.\n",
       "- Pipeline and ColumnTransformer use this feature and define the default style\n",
       "- Estimators will overwrite some part of the style using the `sk-estimator` class\n",
       "*/\n",
       "\n",
       "/* Pipeline and ColumnTransformer style (default) */\n",
       "\n",
       "#sk-container-id-1 div.sk-toggleable {\n",
       "  /* Default theme specific background. It is overwritten whether we have a\n",
       "  specific estimator or a Pipeline/ColumnTransformer */\n",
       "  background-color: var(--sklearn-color-background);\n",
       "}\n",
       "\n",
       "/* Toggleable label */\n",
       "#sk-container-id-1 label.sk-toggleable__label {\n",
       "  cursor: pointer;\n",
       "  display: flex;\n",
       "  width: 100%;\n",
       "  margin-bottom: 0;\n",
       "  padding: 0.5em;\n",
       "  box-sizing: border-box;\n",
       "  text-align: center;\n",
       "  align-items: start;\n",
       "  justify-content: space-between;\n",
       "  gap: 0.5em;\n",
       "}\n",
       "\n",
       "#sk-container-id-1 label.sk-toggleable__label .caption {\n",
       "  font-size: 0.6rem;\n",
       "  font-weight: lighter;\n",
       "  color: var(--sklearn-color-text-muted);\n",
       "}\n",
       "\n",
       "#sk-container-id-1 label.sk-toggleable__label-arrow:before {\n",
       "  /* Arrow on the left of the label */\n",
       "  content: \"▸\";\n",
       "  float: left;\n",
       "  margin-right: 0.25em;\n",
       "  color: var(--sklearn-color-icon);\n",
       "}\n",
       "\n",
       "#sk-container-id-1 label.sk-toggleable__label-arrow:hover:before {\n",
       "  color: var(--sklearn-color-text);\n",
       "}\n",
       "\n",
       "/* Toggleable content - dropdown */\n",
       "\n",
       "#sk-container-id-1 div.sk-toggleable__content {\n",
       "  max-height: 0;\n",
       "  max-width: 0;\n",
       "  overflow: hidden;\n",
       "  text-align: left;\n",
       "  /* unfitted */\n",
       "  background-color: var(--sklearn-color-unfitted-level-0);\n",
       "}\n",
       "\n",
       "#sk-container-id-1 div.sk-toggleable__content.fitted {\n",
       "  /* fitted */\n",
       "  background-color: var(--sklearn-color-fitted-level-0);\n",
       "}\n",
       "\n",
       "#sk-container-id-1 div.sk-toggleable__content pre {\n",
       "  margin: 0.2em;\n",
       "  border-radius: 0.25em;\n",
       "  color: var(--sklearn-color-text);\n",
       "  /* unfitted */\n",
       "  background-color: var(--sklearn-color-unfitted-level-0);\n",
       "}\n",
       "\n",
       "#sk-container-id-1 div.sk-toggleable__content.fitted pre {\n",
       "  /* unfitted */\n",
       "  background-color: var(--sklearn-color-fitted-level-0);\n",
       "}\n",
       "\n",
       "#sk-container-id-1 input.sk-toggleable__control:checked~div.sk-toggleable__content {\n",
       "  /* Expand drop-down */\n",
       "  max-height: 200px;\n",
       "  max-width: 100%;\n",
       "  overflow: auto;\n",
       "}\n",
       "\n",
       "#sk-container-id-1 input.sk-toggleable__control:checked~label.sk-toggleable__label-arrow:before {\n",
       "  content: \"▾\";\n",
       "}\n",
       "\n",
       "/* Pipeline/ColumnTransformer-specific style */\n",
       "\n",
       "#sk-container-id-1 div.sk-label input.sk-toggleable__control:checked~label.sk-toggleable__label {\n",
       "  color: var(--sklearn-color-text);\n",
       "  background-color: var(--sklearn-color-unfitted-level-2);\n",
       "}\n",
       "\n",
       "#sk-container-id-1 div.sk-label.fitted input.sk-toggleable__control:checked~label.sk-toggleable__label {\n",
       "  background-color: var(--sklearn-color-fitted-level-2);\n",
       "}\n",
       "\n",
       "/* Estimator-specific style */\n",
       "\n",
       "/* Colorize estimator box */\n",
       "#sk-container-id-1 div.sk-estimator input.sk-toggleable__control:checked~label.sk-toggleable__label {\n",
       "  /* unfitted */\n",
       "  background-color: var(--sklearn-color-unfitted-level-2);\n",
       "}\n",
       "\n",
       "#sk-container-id-1 div.sk-estimator.fitted input.sk-toggleable__control:checked~label.sk-toggleable__label {\n",
       "  /* fitted */\n",
       "  background-color: var(--sklearn-color-fitted-level-2);\n",
       "}\n",
       "\n",
       "#sk-container-id-1 div.sk-label label.sk-toggleable__label,\n",
       "#sk-container-id-1 div.sk-label label {\n",
       "  /* The background is the default theme color */\n",
       "  color: var(--sklearn-color-text-on-default-background);\n",
       "}\n",
       "\n",
       "/* On hover, darken the color of the background */\n",
       "#sk-container-id-1 div.sk-label:hover label.sk-toggleable__label {\n",
       "  color: var(--sklearn-color-text);\n",
       "  background-color: var(--sklearn-color-unfitted-level-2);\n",
       "}\n",
       "\n",
       "/* Label box, darken color on hover, fitted */\n",
       "#sk-container-id-1 div.sk-label.fitted:hover label.sk-toggleable__label.fitted {\n",
       "  color: var(--sklearn-color-text);\n",
       "  background-color: var(--sklearn-color-fitted-level-2);\n",
       "}\n",
       "\n",
       "/* Estimator label */\n",
       "\n",
       "#sk-container-id-1 div.sk-label label {\n",
       "  font-family: monospace;\n",
       "  font-weight: bold;\n",
       "  display: inline-block;\n",
       "  line-height: 1.2em;\n",
       "}\n",
       "\n",
       "#sk-container-id-1 div.sk-label-container {\n",
       "  text-align: center;\n",
       "}\n",
       "\n",
       "/* Estimator-specific */\n",
       "#sk-container-id-1 div.sk-estimator {\n",
       "  font-family: monospace;\n",
       "  border: 1px dotted var(--sklearn-color-border-box);\n",
       "  border-radius: 0.25em;\n",
       "  box-sizing: border-box;\n",
       "  margin-bottom: 0.5em;\n",
       "  /* unfitted */\n",
       "  background-color: var(--sklearn-color-unfitted-level-0);\n",
       "}\n",
       "\n",
       "#sk-container-id-1 div.sk-estimator.fitted {\n",
       "  /* fitted */\n",
       "  background-color: var(--sklearn-color-fitted-level-0);\n",
       "}\n",
       "\n",
       "/* on hover */\n",
       "#sk-container-id-1 div.sk-estimator:hover {\n",
       "  /* unfitted */\n",
       "  background-color: var(--sklearn-color-unfitted-level-2);\n",
       "}\n",
       "\n",
       "#sk-container-id-1 div.sk-estimator.fitted:hover {\n",
       "  /* fitted */\n",
       "  background-color: var(--sklearn-color-fitted-level-2);\n",
       "}\n",
       "\n",
       "/* Specification for estimator info (e.g. \"i\" and \"?\") */\n",
       "\n",
       "/* Common style for \"i\" and \"?\" */\n",
       "\n",
       ".sk-estimator-doc-link,\n",
       "a:link.sk-estimator-doc-link,\n",
       "a:visited.sk-estimator-doc-link {\n",
       "  float: right;\n",
       "  font-size: smaller;\n",
       "  line-height: 1em;\n",
       "  font-family: monospace;\n",
       "  background-color: var(--sklearn-color-background);\n",
       "  border-radius: 1em;\n",
       "  height: 1em;\n",
       "  width: 1em;\n",
       "  text-decoration: none !important;\n",
       "  margin-left: 0.5em;\n",
       "  text-align: center;\n",
       "  /* unfitted */\n",
       "  border: var(--sklearn-color-unfitted-level-1) 1pt solid;\n",
       "  color: var(--sklearn-color-unfitted-level-1);\n",
       "}\n",
       "\n",
       ".sk-estimator-doc-link.fitted,\n",
       "a:link.sk-estimator-doc-link.fitted,\n",
       "a:visited.sk-estimator-doc-link.fitted {\n",
       "  /* fitted */\n",
       "  border: var(--sklearn-color-fitted-level-1) 1pt solid;\n",
       "  color: var(--sklearn-color-fitted-level-1);\n",
       "}\n",
       "\n",
       "/* On hover */\n",
       "div.sk-estimator:hover .sk-estimator-doc-link:hover,\n",
       ".sk-estimator-doc-link:hover,\n",
       "div.sk-label-container:hover .sk-estimator-doc-link:hover,\n",
       ".sk-estimator-doc-link:hover {\n",
       "  /* unfitted */\n",
       "  background-color: var(--sklearn-color-unfitted-level-3);\n",
       "  color: var(--sklearn-color-background);\n",
       "  text-decoration: none;\n",
       "}\n",
       "\n",
       "div.sk-estimator.fitted:hover .sk-estimator-doc-link.fitted:hover,\n",
       ".sk-estimator-doc-link.fitted:hover,\n",
       "div.sk-label-container:hover .sk-estimator-doc-link.fitted:hover,\n",
       ".sk-estimator-doc-link.fitted:hover {\n",
       "  /* fitted */\n",
       "  background-color: var(--sklearn-color-fitted-level-3);\n",
       "  color: var(--sklearn-color-background);\n",
       "  text-decoration: none;\n",
       "}\n",
       "\n",
       "/* Span, style for the box shown on hovering the info icon */\n",
       ".sk-estimator-doc-link span {\n",
       "  display: none;\n",
       "  z-index: 9999;\n",
       "  position: relative;\n",
       "  font-weight: normal;\n",
       "  right: .2ex;\n",
       "  padding: .5ex;\n",
       "  margin: .5ex;\n",
       "  width: min-content;\n",
       "  min-width: 20ex;\n",
       "  max-width: 50ex;\n",
       "  color: var(--sklearn-color-text);\n",
       "  box-shadow: 2pt 2pt 4pt #999;\n",
       "  /* unfitted */\n",
       "  background: var(--sklearn-color-unfitted-level-0);\n",
       "  border: .5pt solid var(--sklearn-color-unfitted-level-3);\n",
       "}\n",
       "\n",
       ".sk-estimator-doc-link.fitted span {\n",
       "  /* fitted */\n",
       "  background: var(--sklearn-color-fitted-level-0);\n",
       "  border: var(--sklearn-color-fitted-level-3);\n",
       "}\n",
       "\n",
       ".sk-estimator-doc-link:hover span {\n",
       "  display: block;\n",
       "}\n",
       "\n",
       "/* \"?\"-specific style due to the `<a>` HTML tag */\n",
       "\n",
       "#sk-container-id-1 a.estimator_doc_link {\n",
       "  float: right;\n",
       "  font-size: 1rem;\n",
       "  line-height: 1em;\n",
       "  font-family: monospace;\n",
       "  background-color: var(--sklearn-color-background);\n",
       "  border-radius: 1rem;\n",
       "  height: 1rem;\n",
       "  width: 1rem;\n",
       "  text-decoration: none;\n",
       "  /* unfitted */\n",
       "  color: var(--sklearn-color-unfitted-level-1);\n",
       "  border: var(--sklearn-color-unfitted-level-1) 1pt solid;\n",
       "}\n",
       "\n",
       "#sk-container-id-1 a.estimator_doc_link.fitted {\n",
       "  /* fitted */\n",
       "  border: var(--sklearn-color-fitted-level-1) 1pt solid;\n",
       "  color: var(--sklearn-color-fitted-level-1);\n",
       "}\n",
       "\n",
       "/* On hover */\n",
       "#sk-container-id-1 a.estimator_doc_link:hover {\n",
       "  /* unfitted */\n",
       "  background-color: var(--sklearn-color-unfitted-level-3);\n",
       "  color: var(--sklearn-color-background);\n",
       "  text-decoration: none;\n",
       "}\n",
       "\n",
       "#sk-container-id-1 a.estimator_doc_link.fitted:hover {\n",
       "  /* fitted */\n",
       "  background-color: var(--sklearn-color-fitted-level-3);\n",
       "}\n",
       "</style><div id=\"sk-container-id-1\" class=\"sk-top-container\"><div class=\"sk-text-repr-fallback\"><pre>BaggingClassifier(estimator=DecisionTreeClassifier(), max_features=0.7,\n",
       "                  n_estimators=200, n_jobs=-1, oob_score=True, random_state=0)</pre><b>In a Jupyter environment, please rerun this cell to show the HTML representation or trust the notebook. <br />On GitHub, the HTML representation is unable to render, please try loading this page with nbviewer.org.</b></div><div class=\"sk-container\" hidden><div class=\"sk-item sk-dashed-wrapped\"><div class=\"sk-label-container\"><div class=\"sk-label fitted sk-toggleable\"><input class=\"sk-toggleable__control sk-hidden--visually\" id=\"sk-estimator-id-1\" type=\"checkbox\" ><label for=\"sk-estimator-id-1\" class=\"sk-toggleable__label fitted sk-toggleable__label-arrow\"><div><div>BaggingClassifier</div></div><div><a class=\"sk-estimator-doc-link fitted\" rel=\"noreferrer\" target=\"_blank\" href=\"https://scikit-learn.org/1.6/modules/generated/sklearn.ensemble.BaggingClassifier.html\">?<span>Documentation for BaggingClassifier</span></a><span class=\"sk-estimator-doc-link fitted\">i<span>Fitted</span></span></div></label><div class=\"sk-toggleable__content fitted\"><pre>BaggingClassifier(estimator=DecisionTreeClassifier(), max_features=0.7,\n",
       "                  n_estimators=200, n_jobs=-1, oob_score=True, random_state=0)</pre></div> </div></div><div class=\"sk-parallel\"><div class=\"sk-parallel-item\"><div class=\"sk-item\"><div class=\"sk-label-container\"><div class=\"sk-label fitted sk-toggleable\"><input class=\"sk-toggleable__control sk-hidden--visually\" id=\"sk-estimator-id-2\" type=\"checkbox\" ><label for=\"sk-estimator-id-2\" class=\"sk-toggleable__label fitted sk-toggleable__label-arrow\"><div><div>estimator: DecisionTreeClassifier</div></div></label><div class=\"sk-toggleable__content fitted\"><pre>DecisionTreeClassifier()</pre></div> </div></div><div class=\"sk-serial\"><div class=\"sk-item\"><div class=\"sk-estimator fitted sk-toggleable\"><input class=\"sk-toggleable__control sk-hidden--visually\" id=\"sk-estimator-id-3\" type=\"checkbox\" ><label for=\"sk-estimator-id-3\" class=\"sk-toggleable__label fitted sk-toggleable__label-arrow\"><div><div>DecisionTreeClassifier</div></div><div><a class=\"sk-estimator-doc-link fitted\" rel=\"noreferrer\" target=\"_blank\" href=\"https://scikit-learn.org/1.6/modules/generated/sklearn.tree.DecisionTreeClassifier.html\">?<span>Documentation for DecisionTreeClassifier</span></a></div></label><div class=\"sk-toggleable__content fitted\"><pre>DecisionTreeClassifier()</pre></div> </div></div></div></div></div></div></div></div></div>"
      ]
     },
     "execution_count": 26,
     "metadata": {},
     "output_type": "execute_result"
    }
   ],
   "execution_count": 26
  },
  {
   "metadata": {},
   "cell_type": "markdown",
   "source": "`best_clf.fit(X_pca, y)` : 위에서 생성한 최종 BaggingClassifier 모델(best_clf)을 PCA로 차원을 축소한 입력 데이터 X_pca와 그에 대응되는 정답 레이블 y를 사용해서 학습!",
   "id": "250942da395cdc59"
  },
  {
   "metadata": {},
   "cell_type": "markdown",
   "source": "<br><hr style=\"border: 0; height: 2px; background: red;\">",
   "id": "45e0755d2b4bd2cc"
  },
  {
   "metadata": {},
   "cell_type": "markdown",
   "source": "## 5. Step for compute Feature importance.",
   "id": "9f3ebf0516340482"
  },
  {
   "cell_type": "code",
   "id": "5b63c90d-2cc8-4ddb-98d0-4975a32e1461",
   "metadata": {
    "ExecuteTime": {
     "end_time": "2025-05-12T11:20:45.975116Z",
     "start_time": "2025-05-12T11:20:45.973566Z"
    }
   },
   "source": [
    "### PC별 MDI 중요도 복원\n",
    "pc_importances = np.zeros(n_pc) # n_pc: PCA로 축소된 후 남은 주성분의 수. PC별 누적 중요도를 저장할 배열을 만들고, 0으로 값 초기화\n",
    "M = len(best_clf.estimators_)   # best_clf.estimators_: 학습된 트리 인스턴스들의 리스트. 그 리스트의 길이 M: 앙상블에 포함된 트리의 수"
   ],
   "outputs": [],
   "execution_count": 27
  },
  {
   "metadata": {},
   "cell_type": "markdown",
   "source": [
    "위의 코도는 PCA로 축소된 주성분(PC) 공간에서 각 축의 중요도를 계산하기 위한 단계이다.\n",
    "\n",
    "`pc_importances = np.zeros(n_pc)` : PCA 변환 후 남아 있는 주성분의 수만큼의 길이를 가진 배열을 만들고, 모든 값을 0으로 초기화, 이 배열은 이후 각 트리의 feature importance를 누적합산하여, 각 주성분(PC)의 평균적인 중요도를 계산하기 위해 사용.\n",
    "\n",
    "`M = len(best_clf.estimators_)` : 학습된 배깅 모델(best_clf)에 포함된 트리의 개수를 가져옴.\n",
    "\n",
    "`best_clf.estimators_` : 실제 학습이 끝난 후 내부적으로 생성된 결정트리 인스턴스들의 리스트이고, 이 리스트의 길이 M은 앙상블 안에 몇 개의 트리가 포함되어 있는지를 알려줌."
   ],
   "id": "acf1e1d48b001206"
  },
  {
   "cell_type": "code",
   "id": "2934b2ee",
   "metadata": {
    "ExecuteTime": {
     "end_time": "2025-05-12T11:20:45.986310Z",
     "start_time": "2025-05-12T11:20:45.982204Z"
    }
   },
   "source": [
    "for tree, feats in zip(best_clf.estimators_, best_clf.estimators_features_):\n",
    "    imp = tree.feature_importances_   # tree.feature_importances_: 적합된 트리가 len(feats)개의 축에 대해 계산한 MDI 중요도 벡터\n",
    "                                      # 벡터 길이: len(feats). imp[i]는 feats[i]번째 주성분 축이 그 트리에서 얼마나 불순도 감소에 기여했는지\n",
    "    pc_importances[feats] += imp      # feats에 대응하는 위치(pc_importances[feats])에 imp를 더해 누적한다"
   ],
   "outputs": [],
   "execution_count": 28
  },
  {
   "metadata": {},
   "cell_type": "markdown",
   "source": [
    "배깅 앙상블에 포함된 각 트리의 MDI 기준 중요도를 PCA 주성분 축별로 누적 계산하는 단계!!!\n",
    "\n",
    "`for tree, feats in zip(best_clf.estimators_, best_clf.estimators_features_)`:\n",
    "\n",
    "각 학습된 트리 객체(tree)와, 해당 트리가 분할 시 사용한 PCA 축의 인덱스 리스트(feats)를 동시에 반복.\n",
    "\n",
    "`imp = tree.feature_importances_` : 해당 트리에서 계산된 MDI 기준의 feature 중요도 벡터를 가져옴.\n",
    "\n",
    "> 이 벡터는 길이가 `len(feats)`이고 값들은 해당 PCA 축이 그 트리에서 얼마나 Gini impurity를 감소시키는 데 기여했는지를 보여줌,\n",
    "\n",
    "`pc_importances[feats] += imp` : 트리의 중요도 imp를 feats에 대응되는 위치의 pc_importances 배열에 더해서 누적..!\n",
    "\n"
   ],
   "id": "88408761cd311871"
  },
  {
   "cell_type": "code",
   "id": "1d219375",
   "metadata": {
    "ExecuteTime": {
     "end_time": "2025-05-12T11:20:45.994243Z",
     "start_time": "2025-05-12T11:20:45.992843Z"
    }
   },
   "source": [
    "pc_importances /= M\n",
    "# 트리 수 M으로 나누어, 모든 트리에 걸친 평균 중요도로 정규화한다\n",
    "# pc_importance[k]: 전체 앙상블에서 k번째 주성분이 받은 평균 MDI 중요도"
   ],
   "outputs": [],
   "execution_count": 29
  },
  {
   "metadata": {},
   "cell_type": "markdown",
   "source": [
    "이제 모든 트리에 대해 중요도가 누적되었으니 평균 가보자!\n",
    "\n",
    "PCA 축이 전체 앙상블에서 받은 평균적인 중요도를 얻을 수 있다.."
   ],
   "id": "8834c10526ebf545"
  },
  {
   "cell_type": "code",
   "id": "b9920ee4-3c1e-481f-ab64-4c78df7ae5cc",
   "metadata": {
    "ExecuteTime": {
     "end_time": "2025-05-12T11:20:46.002561Z",
     "start_time": "2025-05-12T11:20:46.001146Z"
    }
   },
   "source": [
    "## PCA 축 단위로 계산된 평균 중요도(pc_importances)를 다시 원본 변수(feature) 수준으로 되돌려, 각 원본 변수별 중요도를 근사하는 과정\n",
    "loadings = np.abs(pca.components_.T) # (n_orig_features, n_pc) => 각 원본 변수가 어떤 주성분 축들과 얼마나 연관되는지가 열 방향으로 대응  \n",
    "                                     # loadings[i,k]: 원본 변수 i가 주성분 k에 기여하는 정도\n",
    "# pca.components_: pc의 로딩(loading) 벡터를 행 단위로 담고 있다\n",
    "# pca.components_의 shape = (n_pc, n_orig_features)"
   ],
   "outputs": [],
   "execution_count": 30
  },
  {
   "metadata": {},
   "cell_type": "markdown",
   "source": [
    "PCA의 로딩 행렬에서 절댓값만 취한 형태로, (원본 변수 개수, 주성분 개수) 크기를 갖는 행렬이고\n",
    "\n",
    "loadings[i, k]는 원본 변수 i가 주성분 k에 얼마나 기여했는지를 나타낸다.\n",
    "\n",
    "이걸 통해서 “PCA 축 단위 중요도”를 “원래 변수 단위 중요도”로 역산 가능."
   ],
   "id": "33282050af521877"
  },
  {
   "cell_type": "code",
   "id": "1aa4f0a1",
   "metadata": {
    "ExecuteTime": {
     "end_time": "2025-05-12T11:20:46.010813Z",
     "start_time": "2025-05-12T11:20:46.009470Z"
    }
   },
   "source": [
    "orig_importances = loadings.dot(pc_importances) # 행렬곱(dot product)\n",
    "# 각 원본 변수 i가 속한 주성분 축들에 나뉘어 있는 중요도를 로딩 비율에 따라 합산해서, 원본 변수 수준의 근사 MDI 중요도를 얻는다"
   ],
   "outputs": [],
   "execution_count": 31
  },
  {
   "metadata": {},
   "cell_type": "markdown",
   "source": [
    "PCA 축별 중요도(pc_importances)와 로딩 행렬을 행렬곱(dot product)해서\n",
    "\n",
    "각 원본 변수 i가 얼마나 중요한 역할을 했는지를 근사하는 중요도 벡터 `orig_importance`를 만듦.\n",
    "\n",
    "-> 주성분으로 분산된 중요도를 로딩 비율만큼 원래 변수로 다시 재구성"
   ],
   "id": "30c1d4661f7bd6b"
  },
  {
   "cell_type": "code",
   "id": "e6791347",
   "metadata": {
    "ExecuteTime": {
     "end_time": "2025-05-12T11:20:46.021267Z",
     "start_time": "2025-05-12T11:20:46.017741Z"
    }
   },
   "source": [
    "orig_imp_df = pd.DataFrame({\n",
    "    'feature': feature_names,\n",
    "    'importance': orig_importances\n",
    "}).sort_values('importance', ascending=False).reset_index(drop=True) # importance 열을 기준으로 내림차순 정렬\n",
    "## reset_index(drop=True)\n",
    "# 정렬 과정에서 뒤섞인 인덱스(원래 행 번호)를 0,1,2… 순서로 새로 매긴다\n",
    "# drop=True 옵션으로 원래 인덱스 열은 버린다"
   ],
   "outputs": [],
   "execution_count": 32
  },
  {
   "metadata": {},
   "cell_type": "markdown",
   "source": [
    "feature anme과 importance를 한 Dataframe에 정리하고, 중요도 기준으로 내림차순 정렬\n",
    "\n",
    "그리고 `.reset_index(drop=True)`를 통해 정렬로 섞인 기존 인덱스를 새롭게 0부터 다시 부여"
   ],
   "id": "f0ece2fa1aed70fd"
  },
  {
   "cell_type": "code",
   "id": "fe300a04",
   "metadata": {
    "ExecuteTime": {
     "end_time": "2025-05-12T11:20:46.030544Z",
     "start_time": "2025-05-12T11:20:46.028863Z"
    }
   },
   "source": [
    "# best_params 딕셔너리에 저장된 최적 하이퍼파라미터 이름과 값 쌍을 pandas DataFrame으로 바꾼다\n",
    "param_df = pd.DataFrame(\n",
    "    best_params.items(),            \n",
    "    columns=[\"Parameter\",\"Value\"] # 2개의 열 이름을 지정한다\n",
    ")"
   ],
   "outputs": [],
   "execution_count": 33
  },
  {
   "cell_type": "code",
   "id": "6c85f030-f0c4-4304-a6b8-74726cd7b57f",
   "metadata": {
    "ExecuteTime": {
     "end_time": "2025-05-12T11:20:46.040662Z",
     "start_time": "2025-05-12T11:20:46.038008Z"
    }
   },
   "source": [
    "print('Best hyperparameters (OOB 기준)')\n",
    "print()\n",
    "param_df"
   ],
   "outputs": [
    {
     "name": "stdout",
     "output_type": "stream",
     "text": [
      "Best hyperparameters (OOB 기준)\n",
      "\n"
     ]
    },
    {
     "data": {
      "text/plain": [
       "      Parameter       Value\n",
       "0  n_estimators  200.000000\n",
       "1   max_samples    1.000000\n",
       "2  max_features    0.700000\n",
       "3     oob_score    0.957821"
      ],
      "text/html": [
       "<div>\n",
       "<style scoped>\n",
       "    .dataframe tbody tr th:only-of-type {\n",
       "        vertical-align: middle;\n",
       "    }\n",
       "\n",
       "    .dataframe tbody tr th {\n",
       "        vertical-align: top;\n",
       "    }\n",
       "\n",
       "    .dataframe thead th {\n",
       "        text-align: right;\n",
       "    }\n",
       "</style>\n",
       "<table border=\"1\" class=\"dataframe\">\n",
       "  <thead>\n",
       "    <tr style=\"text-align: right;\">\n",
       "      <th></th>\n",
       "      <th>Parameter</th>\n",
       "      <th>Value</th>\n",
       "    </tr>\n",
       "  </thead>\n",
       "  <tbody>\n",
       "    <tr>\n",
       "      <th>0</th>\n",
       "      <td>n_estimators</td>\n",
       "      <td>200.000000</td>\n",
       "    </tr>\n",
       "    <tr>\n",
       "      <th>1</th>\n",
       "      <td>max_samples</td>\n",
       "      <td>1.000000</td>\n",
       "    </tr>\n",
       "    <tr>\n",
       "      <th>2</th>\n",
       "      <td>max_features</td>\n",
       "      <td>0.700000</td>\n",
       "    </tr>\n",
       "    <tr>\n",
       "      <th>3</th>\n",
       "      <td>oob_score</td>\n",
       "      <td>0.957821</td>\n",
       "    </tr>\n",
       "  </tbody>\n",
       "</table>\n",
       "</div>"
      ]
     },
     "execution_count": 34,
     "metadata": {},
     "output_type": "execute_result"
    }
   ],
   "execution_count": 34
  },
  {
   "cell_type": "code",
   "id": "ef6ef3d6-1402-4f37-a24a-b4b37dcadaac",
   "metadata": {
    "ExecuteTime": {
     "end_time": "2025-05-12T11:20:46.065928Z",
     "start_time": "2025-05-12T11:20:46.062528Z"
    }
   },
   "source": [
    "print('OOB Hyperparameter Results')\n",
    "print()\n",
    "results_df"
   ],
   "outputs": [
    {
     "name": "stdout",
     "output_type": "stream",
     "text": [
      "OOB Hyperparameter Results\n",
      "\n"
     ]
    },
    {
     "data": {
      "text/plain": [
       "    n_estimators  max_samples  max_features  oob_score\n",
       "0             50          0.7           0.7   0.940246\n",
       "1             50          0.7           1.0   0.945518\n",
       "2             50          1.0           0.7   0.943761\n",
       "3             50          1.0           1.0   0.949033\n",
       "4            100          0.7           0.7   0.956063\n",
       "5            100          0.7           1.0   0.952548\n",
       "6            100          1.0           0.7   0.956063\n",
       "7            100          1.0           1.0   0.947276\n",
       "8            200          0.7           0.7   0.950791\n",
       "9            200          0.7           1.0   0.950791\n",
       "10           200          1.0           0.7   0.957821\n",
       "11           200          1.0           1.0   0.947276"
      ],
      "text/html": [
       "<div>\n",
       "<style scoped>\n",
       "    .dataframe tbody tr th:only-of-type {\n",
       "        vertical-align: middle;\n",
       "    }\n",
       "\n",
       "    .dataframe tbody tr th {\n",
       "        vertical-align: top;\n",
       "    }\n",
       "\n",
       "    .dataframe thead th {\n",
       "        text-align: right;\n",
       "    }\n",
       "</style>\n",
       "<table border=\"1\" class=\"dataframe\">\n",
       "  <thead>\n",
       "    <tr style=\"text-align: right;\">\n",
       "      <th></th>\n",
       "      <th>n_estimators</th>\n",
       "      <th>max_samples</th>\n",
       "      <th>max_features</th>\n",
       "      <th>oob_score</th>\n",
       "    </tr>\n",
       "  </thead>\n",
       "  <tbody>\n",
       "    <tr>\n",
       "      <th>0</th>\n",
       "      <td>50</td>\n",
       "      <td>0.7</td>\n",
       "      <td>0.7</td>\n",
       "      <td>0.940246</td>\n",
       "    </tr>\n",
       "    <tr>\n",
       "      <th>1</th>\n",
       "      <td>50</td>\n",
       "      <td>0.7</td>\n",
       "      <td>1.0</td>\n",
       "      <td>0.945518</td>\n",
       "    </tr>\n",
       "    <tr>\n",
       "      <th>2</th>\n",
       "      <td>50</td>\n",
       "      <td>1.0</td>\n",
       "      <td>0.7</td>\n",
       "      <td>0.943761</td>\n",
       "    </tr>\n",
       "    <tr>\n",
       "      <th>3</th>\n",
       "      <td>50</td>\n",
       "      <td>1.0</td>\n",
       "      <td>1.0</td>\n",
       "      <td>0.949033</td>\n",
       "    </tr>\n",
       "    <tr>\n",
       "      <th>4</th>\n",
       "      <td>100</td>\n",
       "      <td>0.7</td>\n",
       "      <td>0.7</td>\n",
       "      <td>0.956063</td>\n",
       "    </tr>\n",
       "    <tr>\n",
       "      <th>5</th>\n",
       "      <td>100</td>\n",
       "      <td>0.7</td>\n",
       "      <td>1.0</td>\n",
       "      <td>0.952548</td>\n",
       "    </tr>\n",
       "    <tr>\n",
       "      <th>6</th>\n",
       "      <td>100</td>\n",
       "      <td>1.0</td>\n",
       "      <td>0.7</td>\n",
       "      <td>0.956063</td>\n",
       "    </tr>\n",
       "    <tr>\n",
       "      <th>7</th>\n",
       "      <td>100</td>\n",
       "      <td>1.0</td>\n",
       "      <td>1.0</td>\n",
       "      <td>0.947276</td>\n",
       "    </tr>\n",
       "    <tr>\n",
       "      <th>8</th>\n",
       "      <td>200</td>\n",
       "      <td>0.7</td>\n",
       "      <td>0.7</td>\n",
       "      <td>0.950791</td>\n",
       "    </tr>\n",
       "    <tr>\n",
       "      <th>9</th>\n",
       "      <td>200</td>\n",
       "      <td>0.7</td>\n",
       "      <td>1.0</td>\n",
       "      <td>0.950791</td>\n",
       "    </tr>\n",
       "    <tr>\n",
       "      <th>10</th>\n",
       "      <td>200</td>\n",
       "      <td>1.0</td>\n",
       "      <td>0.7</td>\n",
       "      <td>0.957821</td>\n",
       "    </tr>\n",
       "    <tr>\n",
       "      <th>11</th>\n",
       "      <td>200</td>\n",
       "      <td>1.0</td>\n",
       "      <td>1.0</td>\n",
       "      <td>0.947276</td>\n",
       "    </tr>\n",
       "  </tbody>\n",
       "</table>\n",
       "</div>"
      ]
     },
     "execution_count": 35,
     "metadata": {},
     "output_type": "execute_result"
    }
   ],
   "execution_count": 35
  },
  {
   "cell_type": "code",
   "id": "466541ba-03b5-4328-b545-5c87275e1c73",
   "metadata": {
    "ExecuteTime": {
     "end_time": "2025-05-12T11:20:46.116736Z",
     "start_time": "2025-05-12T11:20:46.113503Z"
    }
   },
   "source": [
    "print('Original Feature Importances (MDI+PCA)')\n",
    "print()\n",
    "orig_imp_df"
   ],
   "outputs": [
    {
     "name": "stdout",
     "output_type": "stream",
     "text": [
      "Original Feature Importances (MDI+PCA)\n",
      "\n"
     ]
    },
    {
     "data": {
      "text/plain": [
       "                    feature  importance\n",
       "0                area error    0.186349\n",
       "1              radius error    0.185717\n",
       "2           perimeter error    0.181980\n",
       "3      concave points error    0.178471\n",
       "4         worst compactness    0.174915\n",
       "5           mean smoothness    0.170557\n",
       "6           worst concavity    0.170186\n",
       "7          worst smoothness    0.166126\n",
       "8   worst fractal dimension    0.164722\n",
       "9      worst concave points    0.163172\n",
       "10          concavity error    0.162693\n",
       "11      mean concave points    0.161472\n",
       "12           worst symmetry    0.158154\n",
       "13        compactness error    0.156847\n",
       "14           mean perimeter    0.155753\n",
       "15           mean concavity    0.154929\n",
       "16              mean radius    0.154085\n",
       "17         mean compactness    0.152251\n",
       "18            mean symmetry    0.152240\n",
       "19               worst area    0.150314\n",
       "20          worst perimeter    0.149504\n",
       "21                mean area    0.149380\n",
       "22             worst radius    0.147227\n",
       "23  fractal dimension error    0.141843\n",
       "24           symmetry error    0.128522\n",
       "25            worst texture    0.119556\n",
       "26         smoothness error    0.119555\n",
       "27             mean texture    0.116432\n",
       "28   mean fractal dimension    0.110706\n",
       "29            texture error    0.104508"
      ],
      "text/html": [
       "<div>\n",
       "<style scoped>\n",
       "    .dataframe tbody tr th:only-of-type {\n",
       "        vertical-align: middle;\n",
       "    }\n",
       "\n",
       "    .dataframe tbody tr th {\n",
       "        vertical-align: top;\n",
       "    }\n",
       "\n",
       "    .dataframe thead th {\n",
       "        text-align: right;\n",
       "    }\n",
       "</style>\n",
       "<table border=\"1\" class=\"dataframe\">\n",
       "  <thead>\n",
       "    <tr style=\"text-align: right;\">\n",
       "      <th></th>\n",
       "      <th>feature</th>\n",
       "      <th>importance</th>\n",
       "    </tr>\n",
       "  </thead>\n",
       "  <tbody>\n",
       "    <tr>\n",
       "      <th>0</th>\n",
       "      <td>area error</td>\n",
       "      <td>0.186349</td>\n",
       "    </tr>\n",
       "    <tr>\n",
       "      <th>1</th>\n",
       "      <td>radius error</td>\n",
       "      <td>0.185717</td>\n",
       "    </tr>\n",
       "    <tr>\n",
       "      <th>2</th>\n",
       "      <td>perimeter error</td>\n",
       "      <td>0.181980</td>\n",
       "    </tr>\n",
       "    <tr>\n",
       "      <th>3</th>\n",
       "      <td>concave points error</td>\n",
       "      <td>0.178471</td>\n",
       "    </tr>\n",
       "    <tr>\n",
       "      <th>4</th>\n",
       "      <td>worst compactness</td>\n",
       "      <td>0.174915</td>\n",
       "    </tr>\n",
       "    <tr>\n",
       "      <th>5</th>\n",
       "      <td>mean smoothness</td>\n",
       "      <td>0.170557</td>\n",
       "    </tr>\n",
       "    <tr>\n",
       "      <th>6</th>\n",
       "      <td>worst concavity</td>\n",
       "      <td>0.170186</td>\n",
       "    </tr>\n",
       "    <tr>\n",
       "      <th>7</th>\n",
       "      <td>worst smoothness</td>\n",
       "      <td>0.166126</td>\n",
       "    </tr>\n",
       "    <tr>\n",
       "      <th>8</th>\n",
       "      <td>worst fractal dimension</td>\n",
       "      <td>0.164722</td>\n",
       "    </tr>\n",
       "    <tr>\n",
       "      <th>9</th>\n",
       "      <td>worst concave points</td>\n",
       "      <td>0.163172</td>\n",
       "    </tr>\n",
       "    <tr>\n",
       "      <th>10</th>\n",
       "      <td>concavity error</td>\n",
       "      <td>0.162693</td>\n",
       "    </tr>\n",
       "    <tr>\n",
       "      <th>11</th>\n",
       "      <td>mean concave points</td>\n",
       "      <td>0.161472</td>\n",
       "    </tr>\n",
       "    <tr>\n",
       "      <th>12</th>\n",
       "      <td>worst symmetry</td>\n",
       "      <td>0.158154</td>\n",
       "    </tr>\n",
       "    <tr>\n",
       "      <th>13</th>\n",
       "      <td>compactness error</td>\n",
       "      <td>0.156847</td>\n",
       "    </tr>\n",
       "    <tr>\n",
       "      <th>14</th>\n",
       "      <td>mean perimeter</td>\n",
       "      <td>0.155753</td>\n",
       "    </tr>\n",
       "    <tr>\n",
       "      <th>15</th>\n",
       "      <td>mean concavity</td>\n",
       "      <td>0.154929</td>\n",
       "    </tr>\n",
       "    <tr>\n",
       "      <th>16</th>\n",
       "      <td>mean radius</td>\n",
       "      <td>0.154085</td>\n",
       "    </tr>\n",
       "    <tr>\n",
       "      <th>17</th>\n",
       "      <td>mean compactness</td>\n",
       "      <td>0.152251</td>\n",
       "    </tr>\n",
       "    <tr>\n",
       "      <th>18</th>\n",
       "      <td>mean symmetry</td>\n",
       "      <td>0.152240</td>\n",
       "    </tr>\n",
       "    <tr>\n",
       "      <th>19</th>\n",
       "      <td>worst area</td>\n",
       "      <td>0.150314</td>\n",
       "    </tr>\n",
       "    <tr>\n",
       "      <th>20</th>\n",
       "      <td>worst perimeter</td>\n",
       "      <td>0.149504</td>\n",
       "    </tr>\n",
       "    <tr>\n",
       "      <th>21</th>\n",
       "      <td>mean area</td>\n",
       "      <td>0.149380</td>\n",
       "    </tr>\n",
       "    <tr>\n",
       "      <th>22</th>\n",
       "      <td>worst radius</td>\n",
       "      <td>0.147227</td>\n",
       "    </tr>\n",
       "    <tr>\n",
       "      <th>23</th>\n",
       "      <td>fractal dimension error</td>\n",
       "      <td>0.141843</td>\n",
       "    </tr>\n",
       "    <tr>\n",
       "      <th>24</th>\n",
       "      <td>symmetry error</td>\n",
       "      <td>0.128522</td>\n",
       "    </tr>\n",
       "    <tr>\n",
       "      <th>25</th>\n",
       "      <td>worst texture</td>\n",
       "      <td>0.119556</td>\n",
       "    </tr>\n",
       "    <tr>\n",
       "      <th>26</th>\n",
       "      <td>smoothness error</td>\n",
       "      <td>0.119555</td>\n",
       "    </tr>\n",
       "    <tr>\n",
       "      <th>27</th>\n",
       "      <td>mean texture</td>\n",
       "      <td>0.116432</td>\n",
       "    </tr>\n",
       "    <tr>\n",
       "      <th>28</th>\n",
       "      <td>mean fractal dimension</td>\n",
       "      <td>0.110706</td>\n",
       "    </tr>\n",
       "    <tr>\n",
       "      <th>29</th>\n",
       "      <td>texture error</td>\n",
       "      <td>0.104508</td>\n",
       "    </tr>\n",
       "  </tbody>\n",
       "</table>\n",
       "</div>"
      ]
     },
     "execution_count": 36,
     "metadata": {},
     "output_type": "execute_result"
    }
   ],
   "execution_count": 36
  },
  {
   "metadata": {},
   "cell_type": "markdown",
   "source": "<br><hr style=\"border: 0; height: 2px; background: red;\">",
   "id": "a82efa302cbace85"
  },
  {
   "metadata": {},
   "cell_type": "markdown",
   "source": [
    "## 최종 요약\n",
    "\n",
    "이 노트북은 UCI의 유방암 진단 데이터를 활용하여 다음 과정을 단계별로 수행:\n",
    "\n",
    "1. **Preprocessing** : 원본 데이터를 표준화하여 각 특성의 단위 차이를 제거\n",
    "2. **Dim-reduction** : PCA를 이용해 전체 분산의 90%를 설명할 수 있도록 feature 수를 줄인다.\n",
    "3. **Model training (Bagging + Decision Tree)** :\n",
    "   - 배깅(Bagging) 기반 앙상블 분류기를 구성하고\n",
    "   - OOB(Out-of-Bag) 점수를 기준으로 주요 하이퍼파라미터 조합을 수동으로 탐삭.\n",
    "4. **Compute Feature importance** : 최적의 조합으로 모델을 재학습한 ->\n",
    "   - PCA 주성분 기준으로 계산된 중요도를\n",
    "   - 로딩 행렬을 활용해 원본 변수 수준의 중요도로 역산.\n",
    "\n",
    "-> 이 코드는 \"PCA로 차원 축소된 공간에서 배깅 앙상블 모델을 학습하고, 그 결과를 다시 원래 feature의 중요도로 해석\"를 구현"
   ],
   "id": "545620dc1161bc7c"
  }
 ],
 "metadata": {
  "kernelspec": {
   "display_name": "Python 3 (ipykernel)",
   "language": "python",
   "name": "python3"
  },
  "language_info": {
   "codemirror_mode": {
    "name": "ipython",
    "version": 3
   },
   "file_extension": ".py",
   "mimetype": "text/x-python",
   "name": "python",
   "nbconvert_exporter": "python",
   "pygments_lexer": "ipython3",
   "version": "3.10.13"
  }
 },
 "nbformat": 4,
 "nbformat_minor": 5
}
